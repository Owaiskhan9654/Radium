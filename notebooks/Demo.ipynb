{
 "cells": [
  {
   "cell_type": "markdown",
   "metadata": {
    "colab_type": "text",
    "id": "view-in-github"
   },
   "source": [
    "<a href=\"https://colab.research.google.com/github/soumik12345/Radium/blob/monte_carlo/notebooks/Demo.ipynb\" target=\"_parent\"><img src=\"https://colab.research.google.com/assets/colab-badge.svg\" alt=\"Open In Colab\"/></a>"
   ]
  },
  {
   "cell_type": "markdown",
   "metadata": {
    "id": "cEY2lU__pDi8"
   },
   "source": [
    "## Clone Repository"
   ]
  },
  {
   "cell_type": "code",
   "execution_count": null,
   "metadata": {
    "colab": {
     "base_uri": "https://localhost:8080/"
    },
    "id": "ih0hHCA4iBbb",
    "outputId": "dedb00be-efd9-4303-d9b5-dec98778fb35"
   },
   "outputs": [],
   "source": [
    "!git clone https://github.com/soumik12345/Radium -b monte_carlo --recursive\n",
    "%cd Radium"
   ]
  },
  {
   "cell_type": "markdown",
   "metadata": {
    "id": "sQuT0gwMpIf2"
   },
   "source": [
    "## Write Your Code to `./src/main.cpp`"
   ]
  },
  {
   "cell_type": "code",
   "execution_count": null,
   "metadata": {
    "colab": {
     "base_uri": "https://localhost:8080/"
    },
    "id": "vX7MsjteiQfV",
    "outputId": "02bd21f0-8779-48e0-f186-9df9a3ba6e47"
   },
   "outputs": [],
   "source": [
    "%%writefile ./src/main.cpp\n",
    "#include \"Radium.h\"\n",
    "\n",
    "\n",
    "int main() {\n",
    "\n",
    "    // Initialize Renderer\n",
    "    Renderer renderer(1024, 768, 1000); // Frame Width, Frame Height, Samples Per Pixel\n",
    "\n",
    "    // Set Camera Position and Direction\n",
    "    renderer.setCameraPosition(50, 52, 295.6);\n",
    "    renderer.setCameraDirection(0, -0.042612, -1);\n",
    "\n",
    "    // Construct Cornell Box Scene using Spheres\n",
    "    renderer.addObject(\n",
    "            Sphere(1e5, Vector3(1e5 + 1, 40.8, 81.6), Vector3(), Vector3(.75, .25, .25), DIFFUSE));\n",
    "    renderer.addObject(\n",
    "            Sphere(1e5, Vector3(-1e5 + 99, 40.8, 81.6), Vector3(), Vector3(.25, .25, .75), DIFFUSE));\n",
    "    renderer.addObject(\n",
    "            Sphere(1e5, Vector3(50, 40.8, 1e5), Vector3(), Vector3(.75, .75, .75), DIFFUSE));\n",
    "    renderer.addObject(\n",
    "            Sphere(1e5, Vector3(50, 40.8, -1e5 + 170), Vector3(), Vector3(), DIFFUSE));\n",
    "    renderer.addObject(\n",
    "            Sphere(1e5, Vector3(50, 1e5, 81.6), Vector3(), Vector3(.75, .75, .75), DIFFUSE));\n",
    "    renderer.addObject(\n",
    "            Sphere(1e5, Vector3(50, -1e5 + 81.6, 81.6), Vector3(), Vector3(.75, .75, .75), DIFFUSE));\n",
    "    renderer.addObject(\n",
    "            Sphere(16.5, Vector3(27, 16.5, 47), Vector3(), Vector3(1, 1, 1) * .999, REFRACTED));\n",
    "    renderer.addObject(\n",
    "            Sphere(16.5, Vector3(73, 16.5, 78), Vector3(), Vector3(1, 1, 1) * .999, SPECULAR));\n",
    "    renderer.addObject(\n",
    "            Sphere(600, Vector3(50, 681.6 - .27, 81.6), Vector3(12, 12, 12), Vector3(), DIFFUSE));\n",
    "\n",
    "    // Render\n",
    "    renderer.render(false); // Enable Progressbar Flag\n",
    "\n",
    "    return 0;\n",
    "}"
   ]
  },
  {
   "cell_type": "markdown",
   "metadata": {
    "id": "sbqER4QXtIav"
   },
   "source": [
    "## Build and Run Radium"
   ]
  },
  {
   "cell_type": "code",
   "execution_count": null,
   "metadata": {
    "colab": {
     "base_uri": "https://localhost:8080/"
    },
    "id": "oCHmq5W6iqXY",
    "outputId": "b18b025e-5f36-470b-c082-699354722772"
   },
   "outputs": [],
   "source": [
    "!time ./build_and_run.sh"
   ]
  },
  {
   "cell_type": "markdown",
   "metadata": {
    "id": "gazQnl3itMc_"
   },
   "source": [
    "## Visualize Rendered Image"
   ]
  },
  {
   "cell_type": "code",
   "execution_count": null,
   "metadata": {
    "colab": {
     "base_uri": "https://localhost:8080/",
     "height": 785
    },
    "id": "qt7nvL9NjW8c",
    "outputId": "794f9357-3fe3-46c5-ed27-9c0c3b48b2d1"
   },
   "outputs": [],
   "source": [
    "import cv2\n",
    "from PIL import Image\n",
    "\n",
    "Image.fromarray(\n",
    "    cv2.cvtColor(\n",
    "        cv2.imread('./dump/image.ppm'\n",
    "        ), cv2.COLOR_BGR2RGB\n",
    "    )\n",
    ")"
   ]
  }
 ],
 "metadata": {
  "colab": {
   "authorship_tag": "ABX9TyNSTSC2c5xk63Nazh970GwY",
   "collapsed_sections": [],
   "include_colab_link": true,
   "name": "Demo.ipynb",
   "provenance": []
  },
  "kernelspec": {
   "display_name": "Python 3",
   "language": "python",
   "name": "python3"
  },
  "language_info": {
   "codemirror_mode": {
    "name": "ipython",
    "version": 3
   },
   "file_extension": ".py",
   "mimetype": "text/x-python",
   "name": "python",
   "nbconvert_exporter": "python",
   "pygments_lexer": "ipython3",
   "version": "3.8.8"
  }
 },
 "nbformat": 4,
 "nbformat_minor": 1
}
